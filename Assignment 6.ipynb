{
  "nbformat": 4,
  "nbformat_minor": 0,
  "metadata": {
    "colab": {
      "provenance": [],
      "authorship_tag": "ABX9TyN4ZdZUNkUirTFla+cDCSfZ",
      "include_colab_link": true
    },
    "kernelspec": {
      "name": "python3",
      "display_name": "Python 3"
    },
    "language_info": {
      "name": "python"
    }
  },
  "cells": [
    {
      "cell_type": "markdown",
      "metadata": {
        "id": "view-in-github",
        "colab_type": "text"
      },
      "source": [
        "<a href=\"https://colab.research.google.com/github/Syed-Hassan-Tahir/Assignment-6-pyt/blob/main/Assignment%206.ipynb\" target=\"_parent\"><img src=\"https://colab.research.google.com/assets/colab-badge.svg\" alt=\"Open In Colab\"/></a>"
      ]
    },
    {
      "cell_type": "code",
      "execution_count": null,
      "metadata": {
        "id": "bBOiOqaIsadA"
      },
      "outputs": [],
      "source": [
        "def manage_student_database():\n",
        "    \"\"\"\n",
        "    Manages a student database by adding students,\n",
        "    checking for duplicates, displaying information,\n",
        "    and finding students with longest and shortest names.\n",
        "    \"\"\"\n",
        "\n",
        "    student_list = []\n",
        "    student_id = 1\n",
        "\n",
        "    while True:\n",
        "        name = input(\"Please enter the student's name (or type 'stop' to finish): \")\n",
        "        if name.lower() == \"stop\":\n",
        "            break\n",
        "\n",
        "        if name in [student[1].lower() for student in student_list]:\n",
        "            print(\"This name is already in the list.\")\n",
        "            continue\n",
        "\n",
        "        student_list.append((student_id, name))\n",
        "        student_id += 1\n",
        "\n",
        "    # Display complete list of students (tuples)\n",
        "    print(\"\\nComplete List of Students (Tuples):\")\n",
        "    for student in student_list:\n",
        "        print(student)\n",
        "\n",
        "    # Display list of students with IDs\n",
        "    print(\"\\nList of Students with IDs:\")\n",
        "    for student_id, name in student_list:\n",
        "        print(f\"ID: {student_id}, Name: {name}\")\n",
        "\n",
        "    # Calculate total number of students and total name length\n",
        "    total_students = len(student_list)\n",
        "    total_name_length = sum(len(name) for _, name in student_list)\n",
        "\n",
        "    # Find student with longest and shortest names\n",
        "    longest_name_student = max(student_list, key=lambda x: len(x[1]))\n",
        "    shortest_name_student = min(student_list, key=lambda x: len(x[1]))\n",
        "\n",
        "    print(f\"\\nTotal number of students: {total_students}\")\n",
        "    print(f\"Total length of all student names combined: {total_name_length}\")\n",
        "    print(f\"The student with the longest name is: {longest_name_student[1]}\")\n",
        "    print(f\"The student with the shortest name is: {shortest_name_student[1]}\")\n",
        "\n",
        "if __name__ == \"__main__\":\n",
        "    manage_student_database()"
      ]
    }
  ]
}